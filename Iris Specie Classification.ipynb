{
 "cells": [
  {
   "cell_type": "code",
   "execution_count": 103,
   "metadata": {
    "collapsed": true
   },
   "outputs": [],
   "source": [
    "# Importing Models\n",
    "from sklearn.datasets import load_iris\n",
    "from sklearn.svm import SVC\n",
    "from sklearn.linear_model import LogisticRegression\n",
    "from sklearn.ensemble import RandomForestClassifier\n",
    "from sklearn.cross_validation import cross_val_score\n",
    "from sklearn.naive_bayes import GaussianNB, MultinomialNB\n",
    "from sklearn.tree import DecisionTreeClassifier\n",
    "from sklearn.grid_search import GridSearchCV\n",
    "from sklearn.ensemble import GradientBoostingClassifier, AdaBoostClassifier\n",
    "from sklearn.neighbors import KNeighborsClassifier\n"
   ]
  },
  {
   "cell_type": "code",
   "execution_count": 78,
   "metadata": {
    "collapsed": false
   },
   "outputs": [],
   "source": [
    "# Loading Dataset\n",
    "iris = load_iris()"
   ]
  },
  {
   "cell_type": "code",
   "execution_count": 79,
   "metadata": {
    "collapsed": false
   },
   "outputs": [],
   "source": [
    "# Creating features and class\n",
    "x = iris.data\n",
    "y = iris.target"
   ]
  },
  {
   "cell_type": "code",
   "execution_count": 106,
   "metadata": {
    "collapsed": false
   },
   "outputs": [],
   "source": [
    "# Creating Models dictionary\n",
    "models = {'svc':SVC(), 'logreg': LogisticRegression(), 'RandomForestClassifier': RandomForestClassifier(), \n",
    "          'Naive-Bayes Gauss': GaussianNB(), 'Naive-Bayes Multi': MultinomialNB(), 'Decision tree': DecisionTreeClassifier(),\n",
    "         'Knn': KNeighborsClassifier(n_neighbors=20)}"
   ]
  },
  {
   "cell_type": "code",
   "execution_count": 111,
   "metadata": {
    "collapsed": false
   },
   "outputs": [
    {
     "name": "stdout",
     "output_type": "stream",
     "text": [
      "Naive-Bayes Multi scored: 95.5\n",
      "Knn scored: 97.4\n",
      "svc scored: 97.4\n",
      "Decision tree scored: 95.5\n",
      "logreg scored: 96.2\n",
      "Naive-Bayes Gauss scored: 95.5\n",
      "RandomForestClassifier scored: 94.2\n"
     ]
    }
   ],
   "source": [
    "# Scoring\n",
    "for key in models:\n",
    "    score = cross_val_score(models[key], x, y, cv=13, scoring='accuracy').mean()\n",
    "    print('{} scored: {:.1f}'.format(key, score*100))\n"
   ]
  },
  {
   "cell_type": "code",
   "execution_count": 82,
   "metadata": {
    "collapsed": true
   },
   "outputs": [],
   "source": [
    "# Taking SVM ahead and improving it"
   ]
  },
  {
   "cell_type": "code",
   "execution_count": 83,
   "metadata": {
    "collapsed": false
   },
   "outputs": [],
   "source": [
    "# Finding optimized paramters: Defining the grid to be searched\n",
    "\n",
    "param_grid = dict(kernel = ['linear', 'rbf', 'poly', 'sigmoid'], decision_function_shape=['ovr', 'ovo'])\n",
    "svm_model = SVC()"
   ]
  },
  {
   "cell_type": "code",
   "execution_count": 84,
   "metadata": {
    "collapsed": false
   },
   "outputs": [],
   "source": [
    "# Initializing the grid\n",
    "grid = GridSearchCV(svm_model, param_grid, cv =10, scoring='accuracy', n_jobs=-1)"
   ]
  },
  {
   "cell_type": "code",
   "execution_count": 85,
   "metadata": {
    "collapsed": false
   },
   "outputs": [
    {
     "data": {
      "text/plain": [
       "GridSearchCV(cv=10, error_score='raise',\n",
       "       estimator=SVC(C=1.0, cache_size=200, class_weight=None, coef0=0.0,\n",
       "  decision_function_shape=None, degree=3, gamma='auto', kernel='rbf',\n",
       "  max_iter=-1, probability=False, random_state=None, shrinking=True,\n",
       "  tol=0.001, verbose=False),\n",
       "       fit_params={}, iid=True, n_jobs=-1,\n",
       "       param_grid={'decision_function_shape': ['ovr', 'ovo'], 'kernel': ['linear', 'rbf', 'poly', 'sigmoid']},\n",
       "       pre_dispatch='2*n_jobs', refit=True, scoring='accuracy', verbose=0)"
      ]
     },
     "execution_count": 85,
     "metadata": {},
     "output_type": "execute_result"
    }
   ],
   "source": [
    "# Fitting the grid with data\n",
    "grid.fit(x, y)"
   ]
  },
  {
   "cell_type": "markdown",
   "metadata": {},
   "source": [
    "### If param_grid has invalid parameters for model then following error occurs. Always make sure paramters and their values exist for a given model \n",
    "\n",
    "\n",
    "File \"<string>\", line unknown\n",
    "SyntaxError: invalid or missing encoding declaration for C:\\tree\\\\svm\\\\libsvm.pyd"
   ]
  },
  {
   "cell_type": "code",
   "execution_count": 86,
   "metadata": {
    "collapsed": false
   },
   "outputs": [
    {
     "data": {
      "text/plain": [
       "SVC(C=1.0, cache_size=200, class_weight=None, coef0=0.0,\n",
       "  decision_function_shape='ovr', degree=3, gamma='auto', kernel='rbf',\n",
       "  max_iter=-1, probability=False, random_state=None, shrinking=True,\n",
       "  tol=0.001, verbose=False)"
      ]
     },
     "execution_count": 86,
     "metadata": {},
     "output_type": "execute_result"
    }
   ],
   "source": [
    "# Getting best estimator settings\n",
    "grid.best_estimator_"
   ]
  },
  {
   "cell_type": "code",
   "execution_count": 87,
   "metadata": {
    "collapsed": false
   },
   "outputs": [
    {
     "data": {
      "text/plain": [
       "{'decision_function_shape': 'ovr', 'kernel': 'rbf'}"
      ]
     },
     "execution_count": 87,
     "metadata": {},
     "output_type": "execute_result"
    }
   ],
   "source": [
    "# Optimized parameters from GridSearchCV\n",
    "grid.best_params_"
   ]
  },
  {
   "cell_type": "code",
   "execution_count": 88,
   "metadata": {
    "collapsed": false
   },
   "outputs": [
    {
     "data": {
      "text/plain": [
       "0.97999999999999998"
      ]
     },
     "execution_count": 88,
     "metadata": {},
     "output_type": "execute_result"
    }
   ],
   "source": [
    "# Best score obtained while searching the grid\n",
    "grid.best_score_"
   ]
  },
  {
   "cell_type": "code",
   "execution_count": 89,
   "metadata": {
    "collapsed": false
   },
   "outputs": [
    {
     "data": {
      "text/plain": [
       "[mean: 0.97333, std: 0.04422, params: {'decision_function_shape': 'ovr', 'kernel': 'linear'},\n",
       " mean: 0.98000, std: 0.03055, params: {'decision_function_shape': 'ovr', 'kernel': 'rbf'},\n",
       " mean: 0.97333, std: 0.04422, params: {'decision_function_shape': 'ovr', 'kernel': 'poly'},\n",
       " mean: 0.33333, std: 0.00000, params: {'decision_function_shape': 'ovr', 'kernel': 'sigmoid'},\n",
       " mean: 0.97333, std: 0.04422, params: {'decision_function_shape': 'ovo', 'kernel': 'linear'},\n",
       " mean: 0.98000, std: 0.03055, params: {'decision_function_shape': 'ovo', 'kernel': 'rbf'},\n",
       " mean: 0.97333, std: 0.04422, params: {'decision_function_shape': 'ovo', 'kernel': 'poly'},\n",
       " mean: 0.33333, std: 0.00000, params: {'decision_function_shape': 'ovo', 'kernel': 'sigmoid'}]"
      ]
     },
     "execution_count": 89,
     "metadata": {},
     "output_type": "execute_result"
    }
   ],
   "source": [
    "grid.grid_scores_"
   ]
  },
  {
   "cell_type": "code",
   "execution_count": 90,
   "metadata": {
    "collapsed": true
   },
   "outputs": [],
   "source": [
    "# Initializing SVM model with optimized parameter values\n",
    "svmc = SVC(decision_function_shape='ovr', kernel='rbf',)\n",
    "# Ovr is used because it is a multi class problem."
   ]
  },
  {
   "cell_type": "code",
   "execution_count": 91,
   "metadata": {
    "collapsed": false
   },
   "outputs": [
    {
     "name": "stdout",
     "output_type": "stream",
     "text": [
      "0.98\n"
     ]
    }
   ],
   "source": [
    "# Finding new score\n",
    "score = cross_val_score(svmc, x, y, cv = 10, scoring='accuracy').mean()\n",
    "print(score)"
   ]
  },
  {
   "cell_type": "code",
   "execution_count": 108,
   "metadata": {
    "collapsed": false
   },
   "outputs": [
    {
     "name": "stdout",
     "output_type": "stream",
     "text": [
      "Improvement by 0.62% \n"
     ]
    }
   ],
   "source": [
    "# Percentage improvement using optimized parameters\n",
    "print('Improvement by {:0.2}% '.format(((0.98-0.974)/0.974)*100))"
   ]
  },
  {
   "cell_type": "markdown",
   "metadata": {},
   "source": [
    "## Accuracy of the optimized SVC model is 98%"
   ]
  },
  {
   "cell_type": "code",
   "execution_count": null,
   "metadata": {
    "collapsed": false
   },
   "outputs": [],
   "source": []
  },
  {
   "cell_type": "code",
   "execution_count": null,
   "metadata": {
    "collapsed": true
   },
   "outputs": [],
   "source": []
  },
  {
   "cell_type": "code",
   "execution_count": null,
   "metadata": {
    "collapsed": true
   },
   "outputs": [],
   "source": []
  }
 ],
 "metadata": {
  "anaconda-cloud": {},
  "kernelspec": {
   "display_name": "Python [default]",
   "language": "python",
   "name": "python3"
  },
  "language_info": {
   "codemirror_mode": {
    "name": "ipython",
    "version": 3
   },
   "file_extension": ".py",
   "mimetype": "text/x-python",
   "name": "python",
   "nbconvert_exporter": "python",
   "pygments_lexer": "ipython3",
   "version": "3.5.2"
  }
 },
 "nbformat": 4,
 "nbformat_minor": 1
}
